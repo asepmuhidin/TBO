{
  "nbformat": 4,
  "nbformat_minor": 0,
  "metadata": {
    "colab": {
      "provenance": [],
      "authorship_tag": "ABX9TyNpBNbfi/PknY+rZVfzAi1R",
      "include_colab_link": true
    },
    "kernelspec": {
      "name": "python3",
      "display_name": "Python 3"
    },
    "language_info": {
      "name": "python"
    }
  },
  "cells": [
    {
      "cell_type": "markdown",
      "metadata": {
        "id": "view-in-github",
        "colab_type": "text"
      },
      "source": [
        "<a href=\"https://colab.research.google.com/github/asepmuhidin/TBO/blob/master/python_fun1.ipynb\" target=\"_parent\"><img src=\"https://colab.research.google.com/assets/colab-badge.svg\" alt=\"Open In Colab\"/></a>"
      ]
    },
    {
      "cell_type": "code",
      "execution_count": 8,
      "metadata": {
        "colab": {
          "base_uri": "https://localhost:8080/"
        },
        "id": "vtigsqtCNvKi",
        "outputId": "9a454090-b7de-44ed-cbfe-5a6001a44c47"
      },
      "outputs": [
        {
          "output_type": "stream",
          "name": "stdout",
          "text": [
            "masukan bilangan: 9\n",
            "9 adalah bilangan Ganjil\n"
          ]
        }
      ],
      "source": [
        "#input\n",
        "n=int(input(\"masukan bilangan: \"))\n",
        "\n",
        "#process\n",
        "if n==0:\n",
        "  result= \"Netral\"\n",
        "elif n%2==0:\n",
        "  result= \"Genap\"\n",
        "else:\n",
        "  result= \"Ganjil\"\n",
        "\n",
        "#output\n",
        "#print(n, \"adalah bilangan \", result)\n",
        "print(f\"{n} adalah bilangan {result}\")"
      ]
    },
    {
      "cell_type": "code",
      "source": [
        "n=int(input(\"masukan bilangan: \"))\n",
        "\n",
        "if n%2==0:\n",
        "  result=\"Weird\"\n",
        "elif n%2==1 and n in range(2,5):\n",
        "  result=\"Not Weird\"\n",
        "elif n%2==1 and n in range(6,20):\n",
        "  result=\"Weird\"\n",
        "elif n >20:\n",
        "  result=\"Not Weird\"\n",
        "else:\n",
        "  result=\"-\"\n",
        "\n",
        "print(f\"{n} adalah {result}\")"
      ],
      "metadata": {
        "colab": {
          "base_uri": "https://localhost:8080/"
        },
        "id": "xojphfAsR2Gx",
        "outputId": "b630a110-5199-4a4b-c8f0-6b3557689fad"
      },
      "execution_count": 13,
      "outputs": [
        {
          "output_type": "stream",
          "name": "stdout",
          "text": [
            "masukan bilangan: 1\n",
            "1 adalah -\n"
          ]
        }
      ]
    },
    {
      "cell_type": "code",
      "source": [
        "n=5\n",
        "for i in range(n):\n",
        "  print(i**2)"
      ],
      "metadata": {
        "colab": {
          "base_uri": "https://localhost:8080/"
        },
        "id": "Wbgy2pdNXEsy",
        "outputId": "5bd1e0df-830c-4f97-8943-d34657b36e5f"
      },
      "execution_count": 14,
      "outputs": [
        {
          "output_type": "stream",
          "name": "stdout",
          "text": [
            "0\n",
            "1\n",
            "4\n",
            "9\n",
            "16\n"
          ]
        }
      ]
    },
    {
      "cell_type": "code",
      "source": [
        "x,y,z,n=1,1,2,3\n",
        "\n",
        "for i in range(x+1):\n",
        "  for j in range(y+1):\n",
        "    for k in range(z+1):\n",
        "      if i+j+k !=n:\n",
        "        print([i,j,k])"
      ],
      "metadata": {
        "colab": {
          "base_uri": "https://localhost:8080/"
        },
        "id": "dWqjNJ78aaW3",
        "outputId": "6d7155ee-bfbe-460f-c9e1-ec19cd10d0c5"
      },
      "execution_count": 15,
      "outputs": [
        {
          "output_type": "stream",
          "name": "stdout",
          "text": [
            "[0, 0, 0]\n",
            "[0, 0, 1]\n",
            "[0, 0, 2]\n",
            "[0, 1, 0]\n",
            "[0, 1, 1]\n",
            "[1, 0, 0]\n",
            "[1, 0, 1]\n",
            "[1, 1, 0]\n",
            "[1, 1, 2]\n"
          ]
        }
      ]
    }
  ]
}